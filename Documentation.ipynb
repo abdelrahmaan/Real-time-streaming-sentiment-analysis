{
  "nbformat": 4,
  "nbformat_minor": 0,
  "metadata": {
    "colab": {
      "name": "Documentation.ipynb",
      "provenance": []
    },
    "kernelspec": {
      "name": "python3",
      "display_name": "Python 3"
    },
    "language_info": {
      "name": "python"
    }
  },
  "cells": [
    {
      "cell_type": "markdown",
      "metadata": {
        "id": "hrx57HL5-Zfx"
      },
      "source": [
        "# Project documentation"
      ]
    },
    {
      "cell_type": "markdown",
      "metadata": {
        "id": "iAwyb9-K-e_x"
      },
      "source": [
        "First, i made [ML twitter sentiment notebook](https://colab.research.google.com/drive/1qtYE05sfBOViRDIHoZELfdbIL55l1Czn?usp=sharing) on [Sentiment140 dataset with 1.6 million tweets data set](https://www.kaggle.com/kazanova/sentiment140).\n",
        "\n",
        "On ML twitter sentiment notebook i made all text preprocessing and feature engineering to get the cleaned tweets, and then run LinearSVC model and save it as a pickle file to make it on streaming data with 82% accuracy.\n",
        "\n",
        "\n",
        "Second i made `all_work.py file` which is to start steaming data from twitter by twitter API's.\n",
        "\n",
        "When stard streaming with exact keywords search, i get the raw data and make all text preprocessing which is used it on traning data and also load the pickle file for modeling to get the sentiment for each tweet.\n",
        "\n",
        "Finally, i used `Streamlit lib` for create beautiful data app for showing the result, and when stream each tweet i make a delay for 5 second to handle streaming .. and showing each tweet and his sentiment by streamlit.\n",
        "\n",
        "\n",
        " "
      ]
    },
    {
      "cell_type": "code",
      "metadata": {
        "id": "7XAiT60uG6H-"
      },
      "source": [
        ""
      ],
      "execution_count": null,
      "outputs": []
    }
  ]
}